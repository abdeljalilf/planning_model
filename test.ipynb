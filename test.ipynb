{
 "cells": [
  {
   "cell_type": "code",
   "execution_count": 1,
   "id": "ab580c61",
   "metadata": {},
   "outputs": [],
   "source": [
    "from data.input_data import get_all_data\n",
    "from pyomo.environ import *\n",
    "from model.sets_params import define_sets_and_params\n",
    "from model.variables import define_variables\n",
    "from model.objective import define_objective\n",
    "from model.solver import solve_model\n",
    "from model.constraints import add_constraints"
   ]
  },
  {
   "cell_type": "code",
   "execution_count": 3,
   "id": "7dc81c72",
   "metadata": {},
   "outputs": [
    {
     "name": "stdout",
     "output_type": "stream",
     "text": [
      "Saving matrix Distor_ihc with dimensions 20x5x4\n"
     ]
    },
    {
     "data": {
      "text/plain": [
       "<pyomo.core.base.PyomoModel.ConcreteModel at 0x17848925090>"
      ]
     },
     "execution_count": 3,
     "metadata": {},
     "output_type": "execute_result"
    }
   ],
   "source": [
    "data = get_all_data()\n",
    "model = ConcreteModel()\n",
    "model = define_sets_and_params(model, data)\n",
    "define_variables(model)          # ✅ définir les variables d’abord\n",
    "# model = add_constraints(model, data)  # ensuite les contraintes\n",
    "# define_objective(model, data)"
   ]
  },
  {
   "cell_type": "code",
   "execution_count": 4,
   "id": "d020dea0",
   "metadata": {},
   "outputs": [
    {
     "name": "stdout",
     "output_type": "stream",
     "text": [
      "[0, 1, 2, 3, 4]\n",
      "4\n",
      "[(0, 0, 0), (0, 0, 1), (0, 1, 0), (0, 1, 1), (0, 2, 0), (0, 2, 1), (0, 3, 0), (0, 3, 1), (0, 4, 0), (0, 4, 1), (1, 0, 0), (1, 0, 1), (1, 1, 0), (1, 1, 1), (1, 2, 0), (1, 2, 1), (1, 3, 0), (1, 3, 1), (1, 4, 0), (1, 4, 1), (2, 0, 0), (2, 0, 1), (2, 1, 0), (2, 1, 1), (2, 2, 0), (2, 2, 1), (2, 3, 0), (2, 3, 1), (2, 4, 0), (2, 4, 1), (3, 0, 0), (3, 0, 1), (3, 1, 0), (3, 1, 1), (3, 2, 0), (3, 2, 1), (3, 3, 0), (3, 3, 1), (3, 4, 0), (3, 4, 1), (4, 0, 0), (4, 0, 1), (4, 1, 0), (4, 1, 1), (4, 2, 0), (4, 2, 1), (4, 3, 0), (4, 3, 1), (4, 4, 0), (4, 4, 1), (5, 0, 0), (5, 0, 1), (5, 1, 0), (5, 1, 1), (5, 2, 0), (5, 2, 1), (5, 3, 0), (5, 3, 1), (5, 4, 0), (5, 4, 1), (6, 0, 0), (6, 0, 1), (6, 1, 0), (6, 1, 1), (6, 2, 0), (6, 2, 1), (6, 3, 0), (6, 3, 1), (6, 4, 0), (6, 4, 1), (7, 0, 0), (7, 0, 1), (7, 1, 0), (7, 1, 1), (7, 2, 0), (7, 2, 1), (7, 3, 0), (7, 3, 1), (7, 4, 0), (7, 4, 1), (8, 0, 0), (8, 0, 1), (8, 1, 0), (8, 1, 1), (8, 2, 0), (8, 2, 1), (8, 3, 0), (8, 3, 1), (8, 4, 0), (8, 4, 1), (9, 0, 0), (9, 0, 1), (9, 1, 0), (9, 1, 1), (9, 2, 0), (9, 2, 1), (9, 3, 0), (9, 3, 1), (9, 4, 0), (9, 4, 1)]\n"
     ]
    }
   ],
   "source": [
    "print(list(model.R.data()))\n",
    "print(list(model.R.data())[4])\n",
    "print(list(model.Distor_ihc))"
   ]
  },
  {
   "cell_type": "code",
   "execution_count": null,
   "id": "8c5deebb",
   "metadata": {},
   "outputs": [
    {
     "name": "stdout",
     "output_type": "stream",
     "text": [
      "1\n",
      "[0, 1, 2, 3, 4]\n"
     ]
    },
    {
     "ename": "IndexError",
     "evalue": "Accessing Pyomo Sets by position is 1-based: valid Set positional index values are [1 .. len(Set)] or [-1 .. -len(Set)]",
     "output_type": "error",
     "traceback": [
      "\u001b[1;31m---------------------------------------------------------------------------\u001b[0m",
      "\u001b[1;31mIndexError\u001b[0m                                Traceback (most recent call last)",
      "Cell \u001b[1;32mIn[28], line 3\u001b[0m\n\u001b[0;32m      1\u001b[0m \u001b[38;5;28mprint\u001b[39m(model\u001b[38;5;241m.\u001b[39mlamda_k[\u001b[38;5;241m0\u001b[39m])\n\u001b[0;32m      2\u001b[0m \u001b[38;5;28mprint\u001b[39m(\u001b[38;5;28mlist\u001b[39m(model\u001b[38;5;241m.\u001b[39mR\u001b[38;5;241m.\u001b[39mdata()))\n\u001b[1;32m----> 3\u001b[0m \u001b[38;5;28mprint\u001b[39m(\u001b[43mmodel\u001b[49m\u001b[38;5;241;43m.\u001b[39;49m\u001b[43mR\u001b[49m\u001b[38;5;241;43m.\u001b[39;49m\u001b[43mat\u001b[49m\u001b[43m(\u001b[49m\u001b[38;5;241;43m0\u001b[39;49m\u001b[43m)\u001b[49m)\n",
      "File \u001b[1;32m~\\AppData\\Local\\Packages\\PythonSoftwareFoundation.Python.3.11_qbz5n2kfra8p0\\LocalCache\\local-packages\\Python311\\site-packages\\pyomo\\core\\base\\set.py:1851\u001b[0m, in \u001b[0;36mOrderedSetData.at\u001b[1;34m(self, index)\u001b[0m\n\u001b[0;32m   1849\u001b[0m \u001b[38;5;28;01mif\u001b[39;00m \u001b[38;5;28mself\u001b[39m\u001b[38;5;241m.\u001b[39m_ordered_values \u001b[38;5;129;01mis\u001b[39;00m \u001b[38;5;28;01mNone\u001b[39;00m:\n\u001b[0;32m   1850\u001b[0m     \u001b[38;5;28mself\u001b[39m\u001b[38;5;241m.\u001b[39m_rebuild_ordered_values()\n\u001b[1;32m-> 1851\u001b[0m i \u001b[38;5;241m=\u001b[39m \u001b[38;5;28;43mself\u001b[39;49m\u001b[38;5;241;43m.\u001b[39;49m\u001b[43m_to_0_based_index\u001b[49m\u001b[43m(\u001b[49m\u001b[43mindex\u001b[49m\u001b[43m)\u001b[49m\n\u001b[0;32m   1852\u001b[0m \u001b[38;5;28;01mtry\u001b[39;00m:\n\u001b[0;32m   1853\u001b[0m     \u001b[38;5;28;01mreturn\u001b[39;00m \u001b[38;5;28mself\u001b[39m\u001b[38;5;241m.\u001b[39m_ordered_values[i]\n",
      "File \u001b[1;32m~\\AppData\\Local\\Packages\\PythonSoftwareFoundation.Python.3.11_qbz5n2kfra8p0\\LocalCache\\local-packages\\Python311\\site-packages\\pyomo\\core\\base\\set.py:1770\u001b[0m, in \u001b[0;36m_OrderedSetMixin._to_0_based_index\u001b[1;34m(self, item)\u001b[0m\n\u001b[0;32m   1768\u001b[0m     \u001b[38;5;28;01mreturn\u001b[39;00m _item\n\u001b[0;32m   1769\u001b[0m \u001b[38;5;28;01melse\u001b[39;00m:\n\u001b[1;32m-> 1770\u001b[0m     \u001b[38;5;28;01mraise\u001b[39;00m \u001b[38;5;167;01mIndexError\u001b[39;00m(\n\u001b[0;32m   1771\u001b[0m         \u001b[38;5;124m\"\u001b[39m\u001b[38;5;124mAccessing Pyomo Sets by position is 1-based: valid Set positional \u001b[39m\u001b[38;5;124m\"\u001b[39m\n\u001b[0;32m   1772\u001b[0m         \u001b[38;5;124m\"\u001b[39m\u001b[38;5;124mindex values are [1 .. len(Set)] or [-1 .. -len(Set)]\u001b[39m\u001b[38;5;124m\"\u001b[39m\n\u001b[0;32m   1773\u001b[0m     )\n",
      "\u001b[1;31mIndexError\u001b[0m: Accessing Pyomo Sets by position is 1-based: valid Set positional index values are [1 .. len(Set)] or [-1 .. -len(Set)]"
     ]
    }
   ],
   "source": [
    "print(model.lamda_k[0])\n",
    "print(list(model.R.data()))\n",
    "print(model.R.at(1))"
   ]
  },
  {
   "cell_type": "code",
   "execution_count": 5,
   "id": "f4bb9c51",
   "metadata": {},
   "outputs": [
    {
     "name": "stdout",
     "output_type": "stream",
     "text": [
      "R\n",
      "<class 'pyomo.core.base.set.OrderedScalarSet'>\n"
     ]
    }
   ],
   "source": [
    "print(model.R)\n",
    "print(type(model.R))"
   ]
  },
  {
   "cell_type": "code",
   "execution_count": 6,
   "id": "eb14bf3b",
   "metadata": {},
   "outputs": [
    {
     "name": "stdout",
     "output_type": "stream",
     "text": [
      "Shape réelle de Alpha_ic : (2, 10)\n"
     ]
    }
   ],
   "source": [
    "indices = list(model.Alpha_ic.keys())\n",
    "dim1 = len(set(i for (i, _) in indices))\n",
    "dim2 = len(set(c for (_, c) in indices))\n",
    "print(f\"Shape réelle de Alpha_ic : ({dim1}, {dim2})\")\n"
   ]
  },
  {
   "cell_type": "code",
   "execution_count": 16,
   "id": "fae0298d",
   "metadata": {},
   "outputs": [
    {
     "data": {
      "text/plain": [
       "58.5"
      ]
     },
     "execution_count": 16,
     "metadata": {},
     "output_type": "execute_result"
    }
   ],
   "source": [
    "model.Alpha_ic[0, 9]"
   ]
  },
  {
   "cell_type": "code",
   "execution_count": 8,
   "id": "25b80888",
   "metadata": {},
   "outputs": [
    {
     "name": "stdout",
     "output_type": "stream",
     "text": [
      "{'_anonymous_sets': <pyomo.common.collections.component_set.ComponentSet object at 0x000001784A11EDA0>,\n",
      " '_constructed': True,\n",
      " '_ctype': <class 'pyomo.core.base.param.Param'>,\n",
      " '_data': {(0, 0): 57.9,\n",
      "           (0, 1): 60.09,\n",
      "           (0, 2): 58.5,\n",
      "           (0, 3): 62.0,\n",
      "           (0, 4): 65.5,\n",
      "           (0, 5): 57.9,\n",
      "           (0, 6): 60.09,\n",
      "           (0, 7): 58.5,\n",
      "           (0, 8): 60.09,\n",
      "           (0, 9): 58.5,\n",
      "           (1, 0): 1.2,\n",
      "           (1, 1): 1.8,\n",
      "           (1, 2): 1.14,\n",
      "           (1, 3): 1.2,\n",
      "           (1, 4): 1.26,\n",
      "           (1, 5): 1.32,\n",
      "           (1, 6): 1.38,\n",
      "           (1, 7): 1.44,\n",
      "           (1, 8): 1.5,\n",
      "           (1, 9): 1.56},\n",
      " '_default_val': <class 'pyomo.core.base.param.Param.NoValue'>,\n",
      " '_dense_initialize': False,\n",
      " '_index_set': <pyomo.core.base.set.SetProduct_OrderedSet object at 0x000001784A268A00>,\n",
      " '_mutable': False,\n",
      " '_name': 'Alpha_ic',\n",
      " '_parent': <weakref at 0x0000017848FF3A60; to 'ConcreteModel' at 0x0000017848925090>,\n",
      " '_rule': <pyomo.core.base.initializer.IndexedCallInitializer object at 0x000001784A11EB90>,\n",
      " '_units': None,\n",
      " '_validate': None,\n",
      " 'doc': None,\n",
      " 'domain': <pyomo.core.base.param._ImplicitAny object at 0x000001784A268820>}\n"
     ]
    }
   ],
   "source": [
    "from pprint import pprint\n",
    "pprint(vars(  model.Alpha_ic))  # dictionnaire des attributs internes\n"
   ]
  },
  {
   "cell_type": "code",
   "execution_count": 9,
   "id": "83164bb1",
   "metadata": {},
   "outputs": [
    {
     "name": "stdout",
     "output_type": "stream",
     "text": [
      "{'_anonymous_sets': <pyomo.common.collections.component_set.ComponentSet object at 0x000001784A11EF20>,\n",
      " '_constructed': True,\n",
      " '_ctype': <class 'pyomo.core.base.param.Param'>,\n",
      " '_data': {(0, 0): 0.9,\n",
      "           (0, 1): 0.9,\n",
      "           (0, 2): 0.9,\n",
      "           (0, 3): 0.95,\n",
      "           (0, 4): 0.95,\n",
      "           (1, 0): 0.9,\n",
      "           (1, 1): 0.9,\n",
      "           (1, 2): 0.9,\n",
      "           (1, 3): 0.95,\n",
      "           (1, 4): 0.95},\n",
      " '_default_val': <class 'pyomo.core.base.param.Param.NoValue'>,\n",
      " '_dense_initialize': False,\n",
      " '_index_set': <pyomo.core.base.set.SetProduct_OrderedSet object at 0x000001784A2685A0>,\n",
      " '_mutable': False,\n",
      " '_name': 'TauxDispo_rt',\n",
      " '_parent': <weakref at 0x0000017848FF3A60; to 'ConcreteModel' at 0x0000017848925090>,\n",
      " '_rule': <pyomo.core.base.initializer.IndexedCallInitializer object at 0x000001784A11C7F0>,\n",
      " '_units': None,\n",
      " '_validate': None,\n",
      " 'doc': None,\n",
      " 'domain': <pyomo.core.base.param._ImplicitAny object at 0x000001784A268190>}\n"
     ]
    }
   ],
   "source": [
    "from pprint import pprint\n",
    "pprint(vars(  model.TauxDispo_rt))  # dictionnaire des attributs internes\n"
   ]
  }
 ],
 "metadata": {
  "kernelspec": {
   "display_name": "Python 3",
   "language": "python",
   "name": "python3"
  },
  "language_info": {
   "codemirror_mode": {
    "name": "ipython",
    "version": 3
   },
   "file_extension": ".py",
   "mimetype": "text/x-python",
   "name": "python",
   "nbconvert_exporter": "python",
   "pygments_lexer": "ipython3",
   "version": "3.11.9"
  }
 },
 "nbformat": 4,
 "nbformat_minor": 5
}
